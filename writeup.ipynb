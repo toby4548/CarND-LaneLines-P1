{
 "cells": [
  {
   "cell_type": "markdown",
   "metadata": {
    "deletable": true,
    "editable": true
   },
   "source": [
    "<h1 style=\"text-align:center\">Project1: Finding Lane Lines on the Road</h1>\n",
    "\n",
    "\n",
    "\n",
    "## **Introduction:**\n",
    "\n",
    "&emsp;&emsp;The goal of this project is to build up an image pipeline, which takes a frame from a video and process it then return a modified frame. Through this process, the lane line on the road should be detected and marked up.    \n",
    "\n",
    "## **Pipe Line Discription:**\n",
    "\n",
    "&emsp;&emsp;The image pipeline consisted of 7 steps. \n",
    "\n",
    "**1.Read in image:**\n",
    "At first, the pipeline takes a single 3 - channel RGB image\n",
    " ![alt text][image1]\n",
    "**2.Gray scale transform:**\n",
    " Then converts the images to grayscale\n",
    "![alt text][image2]\n",
    "**3.Gaussian smoothing:**\n",
    " A Gaussian kernel is applied in order to blur the image and eliminate the noise \n",
    "![alt text][image3]\n",
    "**4.Canny trasform:**\n",
    "Use canny edge detector to detect the edge of a lane line. The parameter of the gaussian filter and canny detector has been tuned in order to keep the detected lane edge always available and in good condition.\n",
    "![alt text][image4]\n",
    "**5.Region of interest mask:**\n",
    "For next step, a mask of interst region is applied  to filt out objects which is not interested  in the image.\n",
    "![alt text][image5]\n",
    "**6.Hough Transform and Hough lines drawn:**\n",
    "Apply Hough transform with a tuned parameters to find a lines in the image and draw red lines to mark out them on the image. \n",
    "![alt text][image6]\n",
    "However, there are many red lines on the image and jitter a lot, so I've also modified the draw_lines() function by devide lines detected by hough transform into 2 groups: Left_Lane_Lines and Right_Lane_Lines. In each group, the mean slope and the mean intercept point are calculated then a single  and solid line is drawn with these data.\n",
    "![alt text][image7]\n",
    "**7.Return modified image:**\n",
    "Combile the Hough line image with the original image and output the modified image.\n",
    "![alt text][image8]\n",
    "\n",
    "## **Potential Shortcomings with the Pipeline:**\n",
    "\n",
    "&emsp;&emsp;The pipeline seems working fine with a single picture. However, the detected lane lines are not stable enough while dealing with a video input. In order to get more stable result. I've been tuned the parameters in canny and hough transform.  \n",
    "\n",
    "Now,the pipeline works fine with the firest two test video. After moving to the challenge video, I've found one potential shortcoming. Take the following frame from challenge video as an example.\n",
    "![alt text][image9]\n",
    "When the car drive through a shadow area, the lane line in yellow and the road in grey actually have the same brightness levels. This problem can be clearly shown under canny transform and clearly it's almost not possible to detect yellow line under this case. The pipeline is failed.\n",
    "![alt text][image10]\n",
    "![alt text][image11]\n",
    "\n",
    "\n",
    "To overcome this problem, instead of using RGB2GRAY transform, a HSV color transform is applied. \n",
    "![alt text][image12]\n",
    "<center>Source: wikipedia</center>\n",
    "HSV is better as RGB when we want to detect a certain color. Especially under low light condition. By apply HSV into the pipeline to replace gray scale transform, the detail of lane lines are preserved even when the car is driving through a shadow area. The results are shown in the following figures.\n",
    "![alt text][image13]\n",
    "![alt text][image14]\n",
    "\n",
    "Another shortcoming is that when the lane line or the vehicle motion is changing rapidly, the detected lane line will also jitter  and not stable.\n",
    "\n",
    "## **Suggest Possible Improvement to the Pipeline:**\n",
    "\n",
    "Although so far the pipeline working fine with all the cases in test videos, a possible improvement would be to use buffer to store detected lines information from the previous frames or apply a kalman filter. By doing that, the drawn lane lines will be more stable.\n",
    "\n",
    "\n",
    "\n",
    "[//]: # (Image References)\n",
    "[image1]: ./writeup_material/input_image.png\n",
    "[image2]: ./writeup_material/gray_scale.png\n",
    "[image3]: ./writeup_material/gray_smooth.png\n",
    "[image4]: ./writeup_material/canny.png\n",
    "[image5]: ./writeup_material/region_of_interest.png\n",
    "[image6]: ./writeup_material/hough_line.png\n",
    "[image7]: ./writeup_material/hough_line_stable.png\n",
    "[image8]: ./writeup_material/output_image_stable.png\n",
    "[image9]: ./writeup_material/challenge_input.png\n",
    "[image10]: ./writeup_material/challenge_RGB_canny.png\n",
    "[image11]: ./writeup_material/challenge_RGB_output.png\n",
    "[image12]: ./writeup_material/HSV_wiki.png\n",
    "[image13]: ./writeup_material/challenge_HSV_canny.png\n",
    "[image14]: ./writeup_material/challenge_HSV_output.png\n"
   ]
  },
  {
   "cell_type": "code",
   "execution_count": null,
   "metadata": {
    "collapsed": true,
    "deletable": true,
    "editable": true
   },
   "outputs": [],
   "source": []
  }
 ],
 "metadata": {
  "kernelspec": {
   "display_name": "Python 3",
   "language": "python",
   "name": "python3"
  },
  "language_info": {
   "codemirror_mode": {
    "name": "ipython",
    "version": 3
   },
   "file_extension": ".py",
   "mimetype": "text/x-python",
   "name": "python",
   "nbconvert_exporter": "python",
   "pygments_lexer": "ipython3",
   "version": "3.5.2"
  },
  "widgets": {
   "state": {},
   "version": "1.1.2"
  }
 },
 "nbformat": 4,
 "nbformat_minor": 2
}
