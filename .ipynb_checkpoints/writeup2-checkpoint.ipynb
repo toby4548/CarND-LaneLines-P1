{
 "cells": [
  {
   "cell_type": "markdown",
   "metadata": {},
   "source": [
    "# **Finding Lane Lines on the Road** \n",
    "\n",
    "<!---\n",
    "## Writeup Template\n",
    "\n",
    "### You can use this file as a template for your writeup if you want to submit it as a markdown file. But feel free to use some other method and submit a pdf if you prefer.\n",
    "\n",
    "\n",
    "\n",
    "**Finding Lane Lines on the Road**\n",
    "--->\n",
    "\n",
    "The goals / steps of this project are the following:\n",
    "* Make a pipeline that finds lane lines on the road\n",
    "* Reflect on your work in a written report\n",
    "\n",
    "\n",
    "[//]: # (Image References)\n",
    "\n",
    "[image1]: ./examples/grayscale.jpg \"Grayscale\"\n",
    "\n",
    "---\n",
    "\n",
    "### Reflection\n",
    "<!---\n",
    "###1. Describe your pipeline. As part of the description, explain how you modified the draw_lines() function.\n",
    "--->\n",
    "#### 1. Pipe Line Discription\n",
    "\n",
    "My pipeline consisted of 5 steps. First, I converted the images to grayscale, then I apply Gaussian filter to blur the image to eliminate the noise in the image and use canny edge detector to detect the edge of a lane line. The parameter of the gaussian filter and canny detector has been tuned in order to keep the detected lane edge always available and in good condition. For next step, a mask of interst region is applied  to filt out objects which is not interested  in the image.  For the final step, I use Hough transform with a tuned parameters to find a lines in the image and draw red lines to mark out the lane line in the image.\n",
    "\n",
    "In order to draw a single line on the left and right lanes, I modified the draw_lines() function by devide lines detected by hough transform into 2 groups: Left_Lane_Lines and Right_Lane_Lines. In each group, the mean slope and the mean intercept point are calculate. A single  and solid line is drawn with these data.\n",
    "\n",
    "\n",
    "<!---\n",
    "If you'd like to include images to show how the pipeline works, here is how to include an image: \n",
    "\n",
    "\n",
    "\n",
    "< !  ![alt text][image1]>\n",
    "\n",
    "\n",
    "###2. Identify potential shortcomings with your current pipeline\n",
    "--->\n",
    "\n",
    "#### 2. Potential Shortcomings with the pipeline\n",
    "\n",
    "One potential shortcoming would be what would happen when the car drive through a shadow area. To overcome it, a HSV color transform is applied. By doing that, the detail of lane lines are preserved even when the car is driving through a shadow area.  \n",
    "\n",
    "Another shortcoming is that when the lane line or the vehicle motion is changing rapidly, the detected lane line will also be not smooth and stable.\n",
    "\n",
    "<!---\n",
    "###3. Suggest possible improvements to your pipeline\n",
    "--->\n",
    "\n",
    "#### 3. Suggest Possible Improvement to the Pipeline\n",
    "\n",
    "A possible improvement would be to use buffer to store detected lines information from the previous frames. By doing that, the drawn lane lines will be more stable.\n",
    "\n",
    "Another potential improvement could be to apply kalmann filter to predict where the lane line will be. This will also improve the stability of the detected lane line."
   ]
  },
  {
   "cell_type": "code",
   "execution_count": null,
   "metadata": {
    "collapsed": true
   },
   "outputs": [],
   "source": []
  }
 ],
 "metadata": {
  "kernelspec": {
   "display_name": "Python 3",
   "language": "python",
   "name": "python3"
  },
  "language_info": {
   "codemirror_mode": {
    "name": "ipython",
    "version": 3
   },
   "file_extension": ".py",
   "mimetype": "text/x-python",
   "name": "python",
   "nbconvert_exporter": "python",
   "pygments_lexer": "ipython3",
   "version": "3.5.2"
  },
  "widgets": {
   "state": {},
   "version": "1.1.2"
  }
 },
 "nbformat": 4,
 "nbformat_minor": 2
}
